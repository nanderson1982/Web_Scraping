{
 "cells": [
  {
   "attachments": {},
   "cell_type": "markdown",
   "metadata": {},
   "source": [
    "# Web Scraping - UFC.com"
   ]
  },
  {
   "attachments": {},
   "cell_type": "markdown",
   "metadata": {},
   "source": [
    "## Notebook Setup"
   ]
  },
  {
   "cell_type": "code",
   "execution_count": 76,
   "metadata": {},
   "outputs": [],
   "source": [
    "# Import libraries\n",
    "import pandas as pd\n",
    "import requests\n",
    "from bs4 import BeautifulSoup as bs\n",
    "from pprint import pprint"
   ]
  },
  {
   "cell_type": "code",
   "execution_count": 77,
   "metadata": {},
   "outputs": [],
   "source": [
    "# Define URLs to be scraped\n",
    "url_base = \"http://www.ufcstats.com/statistics/fighters?char=\"\n",
    "url_page = \"&page=all\"\n",
    "url = \"http://www.ufcstats.com/statistics/fighters?char=a\""
   ]
  },
  {
   "attachments": {},
   "cell_type": "markdown",
   "metadata": {},
   "source": [
    "## Create Fighter DataFrame"
   ]
  },
  {
   "cell_type": "code",
   "execution_count": 78,
   "metadata": {},
   "outputs": [],
   "source": [
    "def get_table_body(url: str):\n",
    "    \"\"\"Send get request to url to get html text and find the table on the webpage.\"\"\"\n",
    "    \n",
    "    # Send get request to URL provided\n",
    "    page = requests.get(url)\n",
    "\n",
    "    # Return the html text of the page\n",
    "    soup = bs(page.text, 'lxml')\n",
    "\n",
    "    # Find the table of data on the page \n",
    "    table_body = soup.find('table')\n",
    "    \n",
    "    return table_body, soup"
   ]
  },
  {
   "cell_type": "code",
   "execution_count": 79,
   "metadata": {},
   "outputs": [],
   "source": [
    "def get_fighter_column_headers(url):\n",
    "    \"\"\"Get headers for the table on webpage.\"\"\"\n",
    "        # Send get request to URL provided\n",
    "    page = requests.get(url)\n",
    "\n",
    "    # Return the html text of the page\n",
    "    soup = bs(page.text, 'lxml')\n",
    "    \n",
    "    column_headers_tag = soup.find('tr', class_= \"b-statistics__table-row\")\n",
    "    column_headers = [header.text.strip() for header in column_headers_tag.find_all(['th', 'td'])]    \n",
    "    return column_headers"
   ]
  },
  {
   "cell_type": "code",
   "execution_count": 80,
   "metadata": {},
   "outputs": [],
   "source": [
    "def get_fighter_details(table_body: bs):\n",
    "    \"\"\"Get fighter details from a single web page.\"\"\"\n",
    "    \n",
    "    # Empty lists to store data\n",
    "    table_data = []\n",
    "    current_row = []\n",
    "\n",
    "    # Find HTML where table data is listed\n",
    "    for row in table_body.find_all('tr'):\n",
    "        cols = row.find_all('td')\n",
    "        # Enumerate through each row/column\n",
    "        for i, ele in enumerate(cols, start=1):\n",
    "            col = ele.text.strip()\n",
    "            current_row.append(col)\n",
    "\n",
    "            # When i reaches 10, add current row to row_data and reset the current_row list\n",
    "            if i == 10:\n",
    "                table_data.append(current_row)\n",
    "                current_row = []\n",
    "\n",
    "    # Convert data to a DataFrame using row_data\n",
    "    page_df = pd.DataFrame(table_data).drop(0, axis=1)\n",
    "    \n",
    "    return page_df"
   ]
  },
  {
   "cell_type": "code",
   "execution_count": 85,
   "metadata": {},
   "outputs": [],
   "source": [
    "def get_all_fighter_details(url_base, url_page):\n",
    "    # List of letters to be used to sort web page by last name\n",
    "    letters = [chr(i) for i in range(ord('a'), ord('z') + 1)]\n",
    "\n",
    "    # Master DataFrame to store all pages fighter data\n",
    "    master_df = pd.DataFrame()\n",
    "\n",
    "    # Loop to go through all web pages based on the letter of the last name\n",
    "    for letter in letters:\n",
    "        # Set url to be scraped\n",
    "        page_url = url_base + letter + url_page\n",
    "        \n",
    "        # Send get request to url to get html text and find the table on the webpage.\n",
    "        table_body, _ = get_table_body(page_url)\n",
    "        \n",
    "        # Get fighter details from a single web page\n",
    "        page_df = get_fighter_details(table_body)\n",
    "        \n",
    "        # Add page_data to master_df\n",
    "        master_df = pd.concat([master_df, page_df], ignore_index=True, axis=0)\n",
    "        \n",
    "    return master_df"
   ]
  },
  {
   "cell_type": "code",
   "execution_count": 83,
   "metadata": {},
   "outputs": [
    {
     "name": "stdout",
     "output_type": "stream",
     "text": [
      "http://www.ufcstats.com/statistics/fighters?char=a&page=all\n"
     ]
    }
   ],
   "source": [
    "letter = 'a'\n",
    "url2 = url_base + letter + url_page\n",
    "print(url2)"
   ]
  },
  {
   "cell_type": "code",
   "execution_count": 86,
   "metadata": {},
   "outputs": [
    {
     "ename": "AttributeError",
     "evalue": "'NoneType' object has no attribute 'find_all'",
     "output_type": "error",
     "traceback": [
      "\u001b[0;31m---------------------------------------------------------------------------\u001b[0m",
      "\u001b[0;31mAttributeError\u001b[0m                            Traceback (most recent call last)",
      "Cell \u001b[0;32mIn[86], line 2\u001b[0m\n\u001b[1;32m      1\u001b[0m \u001b[39m# Run all functions to capture fighter details\u001b[39;00m\n\u001b[0;32m----> 2\u001b[0m fighter_details \u001b[39m=\u001b[39m get_all_fighter_details(url_base, url_page)\n",
      "Cell \u001b[0;32mIn[85], line 17\u001b[0m, in \u001b[0;36mget_all_fighter_details\u001b[0;34m(url_base, url_page)\u001b[0m\n\u001b[1;32m     14\u001b[0m table_body, _ \u001b[39m=\u001b[39m get_table_body(page_url)\n\u001b[1;32m     16\u001b[0m \u001b[39m# Get fighter details from a single web page\u001b[39;00m\n\u001b[0;32m---> 17\u001b[0m page_df \u001b[39m=\u001b[39m get_fighter_details(table_body)\n\u001b[1;32m     19\u001b[0m \u001b[39m# Add page_data to master_df\u001b[39;00m\n\u001b[1;32m     20\u001b[0m master_df \u001b[39m=\u001b[39m pd\u001b[39m.\u001b[39mconcat([master_df, page_df], ignore_index\u001b[39m=\u001b[39m\u001b[39mTrue\u001b[39;00m, axis\u001b[39m=\u001b[39m\u001b[39m0\u001b[39m)\n",
      "Cell \u001b[0;32mIn[80], line 9\u001b[0m, in \u001b[0;36mget_fighter_details\u001b[0;34m(table_body)\u001b[0m\n\u001b[1;32m      6\u001b[0m current_row \u001b[39m=\u001b[39m []\n\u001b[1;32m      8\u001b[0m \u001b[39m# Find HTML where table data is listed\u001b[39;00m\n\u001b[0;32m----> 9\u001b[0m \u001b[39mfor\u001b[39;00m row \u001b[39min\u001b[39;00m table_body\u001b[39m.\u001b[39;49mfind_all(\u001b[39m'\u001b[39m\u001b[39mtr\u001b[39m\u001b[39m'\u001b[39m):\n\u001b[1;32m     10\u001b[0m     cols \u001b[39m=\u001b[39m row\u001b[39m.\u001b[39mfind_all(\u001b[39m'\u001b[39m\u001b[39mtd\u001b[39m\u001b[39m'\u001b[39m)\n\u001b[1;32m     11\u001b[0m     \u001b[39m# Enumerate through each row/column\u001b[39;00m\n",
      "\u001b[0;31mAttributeError\u001b[0m: 'NoneType' object has no attribute 'find_all'"
     ]
    }
   ],
   "source": [
    "# Run all functions to capture fighter details\n",
    "fighter_details = get_all_fighter_details(url_base, url_page)"
   ]
  },
  {
   "cell_type": "code",
   "execution_count": null,
   "metadata": {},
   "outputs": [
    {
     "name": "stdout",
     "output_type": "stream",
     "text": [
      "(3953, 10)\n"
     ]
    },
    {
     "data": {
      "text/html": [
       "<div>\n",
       "<style scoped>\n",
       "    .dataframe tbody tr th:only-of-type {\n",
       "        vertical-align: middle;\n",
       "    }\n",
       "\n",
       "    .dataframe tbody tr th {\n",
       "        vertical-align: top;\n",
       "    }\n",
       "\n",
       "    .dataframe thead th {\n",
       "        text-align: right;\n",
       "    }\n",
       "</style>\n",
       "<table border=\"1\" class=\"dataframe\">\n",
       "  <thead>\n",
       "    <tr style=\"text-align: right;\">\n",
       "      <th></th>\n",
       "      <th>1</th>\n",
       "      <th>2</th>\n",
       "      <th>3</th>\n",
       "      <th>4</th>\n",
       "      <th>5</th>\n",
       "      <th>6</th>\n",
       "      <th>7</th>\n",
       "      <th>8</th>\n",
       "      <th>9</th>\n",
       "      <th>10</th>\n",
       "    </tr>\n",
       "  </thead>\n",
       "  <tbody>\n",
       "    <tr>\n",
       "      <th>0</th>\n",
       "      <td>Tom</td>\n",
       "      <td>Aaron</td>\n",
       "      <td></td>\n",
       "      <td>--</td>\n",
       "      <td>155 lbs.</td>\n",
       "      <td>--</td>\n",
       "      <td></td>\n",
       "      <td>5</td>\n",
       "      <td>3</td>\n",
       "      <td>0</td>\n",
       "    </tr>\n",
       "    <tr>\n",
       "      <th>1</th>\n",
       "      <td>Danny</td>\n",
       "      <td>Abbadi</td>\n",
       "      <td>The Assassin</td>\n",
       "      <td>5' 11\"</td>\n",
       "      <td>155 lbs.</td>\n",
       "      <td>--</td>\n",
       "      <td>Orthodox</td>\n",
       "      <td>4</td>\n",
       "      <td>6</td>\n",
       "      <td>0</td>\n",
       "    </tr>\n",
       "    <tr>\n",
       "      <th>2</th>\n",
       "      <td>Nariman</td>\n",
       "      <td>Abbasov</td>\n",
       "      <td>Bayraktar</td>\n",
       "      <td>5' 8\"</td>\n",
       "      <td>155 lbs.</td>\n",
       "      <td>66.0\"</td>\n",
       "      <td>Orthodox</td>\n",
       "      <td>28</td>\n",
       "      <td>4</td>\n",
       "      <td>0</td>\n",
       "    </tr>\n",
       "    <tr>\n",
       "      <th>3</th>\n",
       "      <td>David</td>\n",
       "      <td>Abbott</td>\n",
       "      <td>Tank</td>\n",
       "      <td>6' 0\"</td>\n",
       "      <td>265 lbs.</td>\n",
       "      <td>--</td>\n",
       "      <td>Switch</td>\n",
       "      <td>10</td>\n",
       "      <td>15</td>\n",
       "      <td>0</td>\n",
       "    </tr>\n",
       "    <tr>\n",
       "      <th>4</th>\n",
       "      <td>Hamdy</td>\n",
       "      <td>Abdelwahab</td>\n",
       "      <td>The Hammer</td>\n",
       "      <td>6' 2\"</td>\n",
       "      <td>264 lbs.</td>\n",
       "      <td>72.0\"</td>\n",
       "      <td>Southpaw</td>\n",
       "      <td>5</td>\n",
       "      <td>0</td>\n",
       "      <td>0</td>\n",
       "    </tr>\n",
       "  </tbody>\n",
       "</table>\n",
       "</div>"
      ],
      "text/plain": [
       "        1           2             3       4         5      6         7   8   \\\n",
       "0      Tom       Aaron                    --  155 lbs.     --             5   \n",
       "1    Danny      Abbadi  The Assassin  5' 11\"  155 lbs.     --  Orthodox   4   \n",
       "2  Nariman     Abbasov     Bayraktar   5' 8\"  155 lbs.  66.0\"  Orthodox  28   \n",
       "3    David      Abbott          Tank   6' 0\"  265 lbs.     --    Switch  10   \n",
       "4    Hamdy  Abdelwahab    The Hammer   6' 2\"  264 lbs.  72.0\"  Southpaw   5   \n",
       "\n",
       "   9  10  \n",
       "0   3  0  \n",
       "1   6  0  \n",
       "2   4  0  \n",
       "3  15  0  \n",
       "4   0  0  "
      ]
     },
     "execution_count": 41,
     "metadata": {},
     "output_type": "execute_result"
    }
   ],
   "source": [
    "# Display the shape and first 5 rows of compiled fighter dataframe\n",
    "print(fighter_details.shape)\n",
    "fighter_details.head()"
   ]
  },
  {
   "cell_type": "code",
   "execution_count": null,
   "metadata": {},
   "outputs": [
    {
     "name": "stdout",
     "output_type": "stream",
     "text": [
      "['First', 'Last', 'Nickname', 'Ht.', 'Wt.', 'Reach', 'Stance', 'W', 'L', 'D', 'Belt']\n"
     ]
    }
   ],
   "source": [
    "cols = get_fighter_column_headers(url)\n",
    "print(cols)"
   ]
  },
  {
   "attachments": {},
   "cell_type": "markdown",
   "metadata": {},
   "source": [
    "## Create Event DataFrame"
   ]
  },
  {
   "cell_type": "code",
   "execution_count": null,
   "metadata": {},
   "outputs": [],
   "source": [
    "url = \"http://www.ufcstats.com/statistics/events/completed?page=all\""
   ]
  },
  {
   "cell_type": "code",
   "execution_count": null,
   "metadata": {},
   "outputs": [],
   "source": [
    "# Create list of event web page links\n"
   ]
  },
  {
   "cell_type": "code",
   "execution_count": null,
   "metadata": {},
   "outputs": [],
   "source": []
  },
  {
   "cell_type": "code",
   "execution_count": null,
   "metadata": {},
   "outputs": [],
   "source": []
  },
  {
   "cell_type": "code",
   "execution_count": null,
   "metadata": {},
   "outputs": [
    {
     "data": {
      "text/plain": [
       "['First', 'Last', 'Nickname', 'Ht.', 'Wt.', 'Reach', 'Stance', 'W', 'L', 'D']"
      ]
     },
     "execution_count": 50,
     "metadata": {},
     "output_type": "execute_result"
    }
   ],
   "source": [
    "page = requests.get(url)\n",
    "\n",
    "# Return the html text of the page\n",
    "soup = bs(page.text, 'lxml')\n",
    "\n",
    "column_headers_tag = soup.find('tr', class_= \"b-statistics__table-row\")\n",
    "column_headers = [header.text.strip() for header in column_headers_tag.find_all(['th', 'td'])]\n",
    "\n",
    "column_headers[:-1]"
   ]
  },
  {
   "cell_type": "code",
   "execution_count": null,
   "metadata": {},
   "outputs": [
    {
     "name": "stdout",
     "output_type": "stream",
     "text": [
      "http://www.ufcstats.com/statistics/fighters?char=a\n"
     ]
    }
   ],
   "source": [
    "print(url)"
   ]
  },
  {
   "cell_type": "code",
   "execution_count": null,
   "metadata": {},
   "outputs": [
    {
     "name": "stdout",
     "output_type": "stream",
     "text": [
      "http://www.ufcstats.com/statistics/fighters?char=\n"
     ]
    }
   ],
   "source": [
    "print(url_base)"
   ]
  },
  {
   "cell_type": "code",
   "execution_count": null,
   "metadata": {},
   "outputs": [],
   "source": []
  }
 ],
 "metadata": {
  "kernelspec": {
   "display_name": "Scraping",
   "language": "python",
   "name": "python3"
  },
  "language_info": {
   "codemirror_mode": {
    "name": "ipython",
    "version": 3
   },
   "file_extension": ".py",
   "mimetype": "text/x-python",
   "name": "python",
   "nbconvert_exporter": "python",
   "pygments_lexer": "ipython3",
   "version": "3.8.16"
  },
  "orig_nbformat": 4
 },
 "nbformat": 4,
 "nbformat_minor": 2
}
